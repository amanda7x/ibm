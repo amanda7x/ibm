{
  "nbformat": 4,
  "nbformat_minor": 0,
  "metadata": {
    "colab": {
      "name": "AR_IBM_Watson_Studio.ipynb",
      "provenance": [],
      "toc_visible": true,
      "authorship_tag": "ABX9TyNwb3fG4eIbxTkJ/FNRSqwU",
      "include_colab_link": true
    },
    "kernelspec": {
      "name": "python3",
      "display_name": "Python 3"
    },
    "language_info": {
      "name": "python"
    }
  },
  "cells": [
    {
      "cell_type": "markdown",
      "metadata": {
        "id": "view-in-github",
        "colab_type": "text"
      },
      "source": [
        "<a href=\"https://colab.research.google.com/github/amanda7x/ibm/blob/main/AR_IBM_Watson_Studio.ipynb\" target=\"_parent\"><img src=\"https://colab.research.google.com/assets/colab-badge.svg\" alt=\"Open In Colab\"/></a>"
      ]
    },
    {
      "cell_type": "markdown",
      "metadata": {
        "id": "Yv_O9ALGu-D2"
      },
      "source": [
        "## My Jupyter Notebook on IBM Watson Studio\n",
        "\n",
        "Amanda Rocha <br>\n",
        "Data Scientist\n",
        "\n",
        "---\n",
        "*I am interested in Data Science to help building a better environment.*\n",
        "<br>\n",
        "![Imagem Neighbourhood](https://storage.googleapis.com/kaggle-competitions/kaggle/5407/media/housesbanner.png)\n",
        "<br>\n",
        "###**The Below Should Print \"Hello World\"**\n",
        "<br>\n"
      ]
    },
    {
      "cell_type": "code",
      "metadata": {
        "colab": {
          "base_uri": "https://localhost:8080/"
        },
        "id": "3tHuSip3f_e9",
        "outputId": "dc0b3c3b-c88f-4903-fd47-4bef55794ace"
      },
      "source": [
        "print(\"Hello World\")"
      ],
      "execution_count": null,
      "outputs": [
        {
          "output_type": "stream",
          "name": "stdout",
          "text": [
            "Hello World\n"
          ]
        }
      ]
    }
  ]
}