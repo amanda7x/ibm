{
  "nbformat": 4,
  "nbformat_minor": 0,
  "metadata": {
    "colab": {
      "name": "AR_IBM_Watson_Studio.ipynb",
      "provenance": [],
      "authorship_tag": "ABX9TyMN00NDDIRUx3cmDplx1vwS",
      "include_colab_link": true
    },
    "kernelspec": {
      "name": "python3",
      "display_name": "Python 3"
    },
    "language_info": {
      "name": "python"
    }
  },
  "cells": [
    {
      "cell_type": "markdown",
      "metadata": {
        "id": "view-in-github",
        "colab_type": "text"
      },
      "source": [
        "<a href=\"https://colab.research.google.com/github/amanda7x/ibm/blob/main/AR_IBM_Watson_Studio.ipynb\" target=\"_parent\"><img src=\"https://colab.research.google.com/assets/colab-badge.svg\" alt=\"Open In Colab\"/></a>"
      ]
    },
    {
      "cell_type": "markdown",
      "metadata": {
        "id": "Yv_O9ALGu-D2"
      },
      "source": [
        "## My Jupyter Notebook on IBM Watson Studio\n",
        "\n",
        "Amanda Rocha <br>\n",
        "Data Scientist\n",
        "\n",
        "---\n",
        "*I am interested in Data Science to help building a better environment.*\n",
        "<br>\n",
        "![Imagem Neighbourhood](https://storage.googleapis.com/kaggle-competitions/kaggle/5407/media/housesbanner.png)\n",
        "<br>\n",
        "###**List**\n",
        "* CO2 emission\n",
        "* Carbon Dynamics\n",
        "* Carbon currency\n",
        "\n",
        "<br>\n",
        "\n",
        "<dl>\n",
        "<dd>Youtube Link (press ctrl+click to go):</dd>\n",
        "<a href=\"http://www.youtube.com/watch?feature=player_embedded&v=hzylYAA4uvc\n",
        "\" target=\"_blank\"><img src=\"http://img.youtube.com/vi/hzylYAA4uvc/0.jpg\" \n",
        "alt=\"IMAGE ALT TEXT HERE\" width=\"240\" height=\"180\" border=\"10\" /></a>\n",
        "\n",
        "<dt>Markdown in HTML</dt>\n",
        "<dd>Does *not* work **very** well. Use HTML <em>tags</em>.\n",
        "</dd>\n",
        "</dl>\n",
        "\n",
        "###**The Below Should Print a \"Hello World\"**\n",
        "<br>"
      ]
    },
    {
      "cell_type": "code",
      "metadata": {
        "colab": {
          "base_uri": "https://localhost:8080/"
        },
        "id": "kGOpxkYCTLxv",
        "outputId": "e22748d5-9617-44c6-ce2d-e860c117d3a8"
      },
      "source": [
        "print(\"Hello World\")"
      ],
      "execution_count": 5,
      "outputs": [
        {
          "output_type": "stream",
          "name": "stdout",
          "text": [
            "Hello World\n"
          ]
        }
      ]
    }
  ]
}