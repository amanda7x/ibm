{
  "nbformat": 4,
  "nbformat_minor": 0,
  "metadata": {
    "colab": {
      "name": "AR_IBM_Watson_Studio.ipynb",
      "provenance": [],
      "authorship_tag": "ABX9TyMAR1eNPm5R9iFvVuC3bKfT",
      "include_colab_link": true
    },
    "kernelspec": {
      "name": "python3",
      "display_name": "Python 3"
    },
    "language_info": {
      "name": "python"
    }
  },
  "cells": [
    {
      "cell_type": "markdown",
      "metadata": {
        "id": "view-in-github",
        "colab_type": "text"
      },
      "source": [
        "<a href=\"https://colab.research.google.com/github/amanda7x/ibm/blob/main/AR_IBM_Watson_Studio.ipynb\" target=\"_parent\"><img src=\"https://colab.research.google.com/assets/colab-badge.svg\" alt=\"Open In Colab\"/></a>"
      ]
    },
    {
      "cell_type": "markdown",
      "metadata": {
        "id": "Yv_O9ALGu-D2"
      },
      "source": [
        "## My Jupyter Notebook on IBM Watson Studio\n",
        "\n",
        "##### **Amanda Rocha**\n",
        "*I am interested in Data Science because I want to help and build a better environment*\n",
        "<br>\n",
        "\n",
        "\n",
        "![Imagem house prices](https://storage.googleapis.com/kaggle-competitions/kaggle/5407/media/housesbanner.png)\n",
        "\n",
        "<br>\n",
        "\n",
        "#### **The following code tests the Gauss formula**"
      ]
    },
    {
      "cell_type": "code",
      "metadata": {
        "id": "GXVUgEuxxTrz",
        "outputId": "e03d858d-8a68-49cd-cddb-040162b18eee",
        "colab": {
          "base_uri": "https://localhost:8080/"
        }
      },
      "source": [
        "def gauss(n):\n",
        "    return (n*(n+1))/2\n",
        "gauss(100) == sum(range(101))"
      ],
      "execution_count": 10,
      "outputs": [
        {
          "output_type": "execute_result",
          "data": {
            "text/plain": [
              "True"
            ]
          },
          "metadata": {},
          "execution_count": 10
        }
      ]
    }
  ]
}